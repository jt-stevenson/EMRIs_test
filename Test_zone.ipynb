{
 "cells": [
  {
   "cell_type": "code",
   "execution_count": 6,
   "id": "f083e426",
   "metadata": {},
   "outputs": [
    {
     "name": "stdout",
     "output_type": "stream",
     "text": [
      "Defaulting to user installation because normal site-packages is not writeable\n",
      "Requirement already satisfied: numpy in /Users/pmxks13/Library/Python/3.9/lib/python/site-packages (2.0.2)\n",
      "\u001b[33mWARNING: You are using pip version 21.2.4; however, version 25.2 is available.\n",
      "You should consider upgrading via the '/Library/Developer/CommandLineTools/usr/bin/python3 -m pip install --upgrade pip' command.\u001b[0m\n",
      "Note: you may need to restart the kernel to use updated packages.\n"
     ]
    }
   ],
   "source": [
    "pip install numpy"
   ]
  },
  {
   "cell_type": "code",
   "execution_count": 7,
   "id": "672d9e59",
   "metadata": {},
   "outputs": [
    {
     "name": "stdout",
     "output_type": "stream",
     "text": [
      "Defaulting to user installation because normal site-packages is not writeable\n",
      "Requirement already satisfied: pagn in /Users/pmxks13/Library/Python/3.9/lib/python/site-packages (1.0.0)\n",
      "Requirement already satisfied: matplotlib in /Users/pmxks13/Library/Python/3.9/lib/python/site-packages (from pagn) (3.9.4)\n",
      "Requirement already satisfied: numpy in /Users/pmxks13/Library/Python/3.9/lib/python/site-packages (from pagn) (2.0.2)\n",
      "Requirement already satisfied: scipy>=1.10.0 in /Users/pmxks13/Library/Python/3.9/lib/python/site-packages (from pagn) (1.13.1)\n",
      "Requirement already satisfied: cycler>=0.10 in /Users/pmxks13/Library/Python/3.9/lib/python/site-packages (from matplotlib->pagn) (0.12.1)\n",
      "Requirement already satisfied: python-dateutil>=2.7 in /Users/pmxks13/Library/Python/3.9/lib/python/site-packages (from matplotlib->pagn) (2.9.0.post0)\n",
      "Requirement already satisfied: importlib-resources>=3.2.0 in /Users/pmxks13/Library/Python/3.9/lib/python/site-packages (from matplotlib->pagn) (6.5.2)\n",
      "Requirement already satisfied: fonttools>=4.22.0 in /Users/pmxks13/Library/Python/3.9/lib/python/site-packages (from matplotlib->pagn) (4.60.1)\n",
      "Requirement already satisfied: pillow>=8 in /Users/pmxks13/Library/Python/3.9/lib/python/site-packages (from matplotlib->pagn) (11.3.0)\n",
      "Requirement already satisfied: packaging>=20.0 in /Users/pmxks13/Library/Python/3.9/lib/python/site-packages (from matplotlib->pagn) (25.0)\n",
      "Requirement already satisfied: pyparsing>=2.3.1 in /Users/pmxks13/Library/Python/3.9/lib/python/site-packages (from matplotlib->pagn) (3.2.5)\n",
      "Requirement already satisfied: kiwisolver>=1.3.1 in /Users/pmxks13/Library/Python/3.9/lib/python/site-packages (from matplotlib->pagn) (1.4.7)\n",
      "Requirement already satisfied: contourpy>=1.0.1 in /Users/pmxks13/Library/Python/3.9/lib/python/site-packages (from matplotlib->pagn) (1.3.0)\n",
      "Requirement already satisfied: zipp>=3.1.0 in /Users/pmxks13/Library/Python/3.9/lib/python/site-packages (from importlib-resources>=3.2.0->matplotlib->pagn) (3.23.0)\n",
      "Requirement already satisfied: six>=1.5 in /Library/Developer/CommandLineTools/Library/Frameworks/Python3.framework/Versions/3.9/lib/python3.9/site-packages (from python-dateutil>=2.7->matplotlib->pagn) (1.15.0)\n",
      "\u001b[33mWARNING: You are using pip version 21.2.4; however, version 25.2 is available.\n",
      "You should consider upgrading via the '/Library/Developer/CommandLineTools/usr/bin/python3 -m pip install --upgrade pip' command.\u001b[0m\n",
      "Note: you may need to restart the kernel to use updated packages.\n"
     ]
    }
   ],
   "source": [
    "pip install pagn"
   ]
  },
  {
   "cell_type": "code",
   "execution_count": 8,
   "id": "babeafb7",
   "metadata": {},
   "outputs": [],
   "source": [
    "import numpy as np\n",
    "import pagn.constants as ct"
   ]
  },
  {
   "cell_type": "code",
   "execution_count": null,
   "id": "9b975419",
   "metadata": {},
   "outputs": [],
   "source": [
    "def R_isco_function(MBH, spin):\n",
    "    R_G=ct.G*MBH*(1/(ct.c*ct.c))\n",
    "    Z_1=1+ ((1-(spin**2))**(1/3) * ((1+spin)**(1/3) + (1-spin)**(1/3)))\n",
    "    Z_2=(3*spin**2 + Z1**2)**(1/2)\n",
    "    R_isco=R_G*(3+Z_2 - ((3-Z1)*(3+Z_1+2*Z_2))**(1/2))\n",
    "    return R_isco\n",
    "\n",
    "def radial_function_y0123(MBH, spin):\n",
    "    R_isco=R_isco_function(MBH, spin)\n",
    "    y0=(R_isco/MBH)**(-1/2)\n",
    "    y1=2*np.cos((np.arccos(spin)-np.pi)*(1/3))\n",
    "    y2=2*np.cos((np.arccos(spin)+np.pi)*(1/3))\n",
    "    y3=-2*np.cos((np.arccos(spin))*(1/3))\n",
    "    return y1, y2, y3\n",
    "\n",
    "\n",
    "\n"
   ]
  }
 ],
 "metadata": {
  "kernelspec": {
   "display_name": "Python 3",
   "language": "python",
   "name": "python3"
  },
  "language_info": {
   "codemirror_mode": {
    "name": "ipython",
    "version": 3
   },
   "file_extension": ".py",
   "mimetype": "text/x-python",
   "name": "python",
   "nbconvert_exporter": "python",
   "pygments_lexer": "ipython3",
   "version": "3.9.6"
  }
 },
 "nbformat": 4,
 "nbformat_minor": 5
}
